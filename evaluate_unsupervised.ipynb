{
 "cells": [
  {
   "cell_type": "code",
   "execution_count": 1,
   "metadata": {},
   "outputs": [],
   "source": [
    "import pandas as pd\n",
    "import numpy as np\n",
    "from scipy.stats import spearmanr\n",
    "from scipy.spatial import distance\n",
    "from pymystem3 import Mystem\n",
    "from argparse import ArgumentParser\n",
    "\n",
    "from sklearn.preprocessing import normalize\n",
    "from sklearn.metrics.pairwise import cosine_similarity\n",
    "\n",
    "from gensim.models import Word2Vec, FastText\n",
    "\n",
    "from compounds_utils import acquiring, average_normalized, average_standard, apply_distance\n",
    "\n",
    "\n",
    "def evaluate(compounds_path, dsm_path, model_type, label, f_average, dsm_words_path=None):\n",
    "    comp = pd.read_csv(compounds_path)\n",
    "    model = model_type.load(dsm_path)\n",
    "    if dsm_words_path is None:\n",
    "        model_words = None\n",
    "    else:\n",
    "        model_words = model_type.load(dsm_words_path)\n",
    "        \n",
    "    w1, w2, c, true = acquiring(comp, model.wv, label, model_words)\n",
    "    \n",
    "    f_spearman_eval = lambda a_dist: spearmanr(apply_distance(w1, w2, c, a_dist, f_average), true)[0]\n",
    "    \n",
    "    res = pd.DataFrame.from_dict({metric.__name__ : f_spearman_eval(metric)\n",
    "                                  for metric in [distance.cosine, \n",
    "                                                 distance.chebyshev, \n",
    "                                                 distance.cityblock, \n",
    "                                                 distance.euclidean]},\n",
    "                                 orient='index', \n",
    "                                 columns=['spearman'])\n",
    "    return res"
   ]
  },
  {
   "cell_type": "code",
   "execution_count": 37,
   "metadata": {},
   "outputs": [],
   "source": [
    "model = Word2Vec.load('./workdir/models/model_word2vec_test1')"
   ]
  },
  {
   "cell_type": "code",
   "execution_count": 39,
   "metadata": {},
   "outputs": [],
   "source": [
    "dataset = pd.read_csv('./workdir/annotation_small.csv')"
   ]
  },
  {
   "cell_type": "code",
   "execution_count": null,
   "metadata": {},
   "outputs": [],
   "source": [
    "dataset[dataset['Катя (short list)'].isin({0., 1.})]['Часть 1'].tolist()"
   ]
  },
  {
   "cell_type": "code",
   "execution_count": 19,
   "metadata": {},
   "outputs": [],
   "source": [
    "dataset = pd.read_csv('./workdir/annotation_katya_ref_v2.csv')\n",
    "dataset.iloc[248:].to_csv('./workdir/annotation_small.csv')"
   ]
  },
  {
   "cell_type": "code",
   "execution_count": 4,
   "metadata": {},
   "outputs": [
    {
     "name": "stdout",
     "output_type": "stream",
     "text": [
      "Number of examples:  443\n"
     ]
    },
    {
     "data": {
      "text/html": [
       "<div>\n",
       "<style scoped>\n",
       "    .dataframe tbody tr th:only-of-type {\n",
       "        vertical-align: middle;\n",
       "    }\n",
       "\n",
       "    .dataframe tbody tr th {\n",
       "        vertical-align: top;\n",
       "    }\n",
       "\n",
       "    .dataframe thead th {\n",
       "        text-align: right;\n",
       "    }\n",
       "</style>\n",
       "<table border=\"1\" class=\"dataframe\">\n",
       "  <thead>\n",
       "    <tr style=\"text-align: right;\">\n",
       "      <th></th>\n",
       "      <th>spearman</th>\n",
       "    </tr>\n",
       "  </thead>\n",
       "  <tbody>\n",
       "    <tr>\n",
       "      <th>cosine</th>\n",
       "      <td>0.081411</td>\n",
       "    </tr>\n",
       "    <tr>\n",
       "      <th>chebyshev</th>\n",
       "      <td>-0.012571</td>\n",
       "    </tr>\n",
       "    <tr>\n",
       "      <th>cityblock</th>\n",
       "      <td>-0.021378</td>\n",
       "    </tr>\n",
       "    <tr>\n",
       "      <th>euclidean</th>\n",
       "      <td>-0.025882</td>\n",
       "    </tr>\n",
       "  </tbody>\n",
       "</table>\n",
       "</div>"
      ],
      "text/plain": [
       "           spearman\n",
       "cosine     0.081411\n",
       "chebyshev -0.012571\n",
       "cityblock -0.021378\n",
       "euclidean -0.025882"
      ]
     },
     "execution_count": 4,
     "metadata": {},
     "output_type": "execute_result"
    }
   ],
   "source": [
    "evaluate(compounds_path='./workdir/annotation_katya_ref_v2.csv',\n",
    "         dsm_path='./workdir/models/model_word2vec_compounds_7',\n",
    "         model_type=Word2Vec,\n",
    "         label='Катя (short list)',\n",
    "         f_average=average_standard)"
   ]
  },
  {
   "cell_type": "code",
   "execution_count": 7,
   "metadata": {},
   "outputs": [
    {
     "name": "stdout",
     "output_type": "stream",
     "text": [
      "Number of examples:  432\n"
     ]
    },
    {
     "data": {
      "text/html": [
       "<div>\n",
       "<style scoped>\n",
       "    .dataframe tbody tr th:only-of-type {\n",
       "        vertical-align: middle;\n",
       "    }\n",
       "\n",
       "    .dataframe tbody tr th {\n",
       "        vertical-align: top;\n",
       "    }\n",
       "\n",
       "    .dataframe thead th {\n",
       "        text-align: right;\n",
       "    }\n",
       "</style>\n",
       "<table border=\"1\" class=\"dataframe\">\n",
       "  <thead>\n",
       "    <tr style=\"text-align: right;\">\n",
       "      <th></th>\n",
       "      <th>spearman</th>\n",
       "    </tr>\n",
       "  </thead>\n",
       "  <tbody>\n",
       "    <tr>\n",
       "      <th>cosine</th>\n",
       "      <td>0.092848</td>\n",
       "    </tr>\n",
       "    <tr>\n",
       "      <th>chebyshev</th>\n",
       "      <td>0.078531</td>\n",
       "    </tr>\n",
       "    <tr>\n",
       "      <th>cityblock</th>\n",
       "      <td>0.079382</td>\n",
       "    </tr>\n",
       "    <tr>\n",
       "      <th>euclidean</th>\n",
       "      <td>0.079878</td>\n",
       "    </tr>\n",
       "  </tbody>\n",
       "</table>\n",
       "</div>"
      ],
      "text/plain": [
       "           spearman\n",
       "cosine     0.092848\n",
       "chebyshev  0.078531\n",
       "cityblock  0.079382\n",
       "euclidean  0.079878"
      ]
     },
     "execution_count": 7,
     "metadata": {},
     "output_type": "execute_result"
    }
   ],
   "source": [
    "evaluate(compounds_path='./workdir/annotation_katya_ref_v2.csv',\n",
    "         dsm_path='./workdir/models/model_word2vec_compounds6',\n",
    "         model_type=Word2Vec,\n",
    "         label='Катя (short list)',\n",
    "         f_average=average_normalized)"
   ]
  },
  {
   "cell_type": "code",
   "execution_count": 24,
   "metadata": {},
   "outputs": [
    {
     "name": "stdout",
     "output_type": "stream",
     "text": [
      "Number of examples:  201\n",
      "33\n"
     ]
    },
    {
     "data": {
      "text/html": [
       "<div>\n",
       "<style scoped>\n",
       "    .dataframe tbody tr th:only-of-type {\n",
       "        vertical-align: middle;\n",
       "    }\n",
       "\n",
       "    .dataframe tbody tr th {\n",
       "        vertical-align: top;\n",
       "    }\n",
       "\n",
       "    .dataframe thead th {\n",
       "        text-align: right;\n",
       "    }\n",
       "</style>\n",
       "<table border=\"1\" class=\"dataframe\">\n",
       "  <thead>\n",
       "    <tr style=\"text-align: right;\">\n",
       "      <th></th>\n",
       "      <th>spearman</th>\n",
       "    </tr>\n",
       "  </thead>\n",
       "  <tbody>\n",
       "    <tr>\n",
       "      <th>cosine</th>\n",
       "      <td>0.327757</td>\n",
       "    </tr>\n",
       "    <tr>\n",
       "      <th>chebyshev</th>\n",
       "      <td>0.271510</td>\n",
       "    </tr>\n",
       "    <tr>\n",
       "      <th>cityblock</th>\n",
       "      <td>0.306230</td>\n",
       "    </tr>\n",
       "    <tr>\n",
       "      <th>euclidean</th>\n",
       "      <td>0.304379</td>\n",
       "    </tr>\n",
       "  </tbody>\n",
       "</table>\n",
       "</div>"
      ],
      "text/plain": [
       "           spearman\n",
       "cosine     0.327757\n",
       "chebyshev  0.271510\n",
       "cityblock  0.306230\n",
       "euclidean  0.304379"
      ]
     },
     "execution_count": 24,
     "metadata": {},
     "output_type": "execute_result"
    }
   ],
   "source": [
    "evaluate(compounds_path='./workdir/annotation_small.csv',\n",
    "    #compounds_path='./workdir/annotation_katya_ref_v2.csv',\n",
    "         dsm_path='./workdir/models/model_fasttext_compounts_1',\n",
    "         model_type=FastText,\n",
    "         label='Катя (short list)',\n",
    "         f_average=average_standard)"
   ]
  },
  {
   "cell_type": "code",
   "execution_count": 20,
   "metadata": {},
   "outputs": [
    {
     "name": "stdout",
     "output_type": "stream",
     "text": [
      "Number of examples:  201\n",
      "33\n"
     ]
    },
    {
     "data": {
      "text/html": [
       "<div>\n",
       "<style scoped>\n",
       "    .dataframe tbody tr th:only-of-type {\n",
       "        vertical-align: middle;\n",
       "    }\n",
       "\n",
       "    .dataframe tbody tr th {\n",
       "        vertical-align: top;\n",
       "    }\n",
       "\n",
       "    .dataframe thead th {\n",
       "        text-align: right;\n",
       "    }\n",
       "</style>\n",
       "<table border=\"1\" class=\"dataframe\">\n",
       "  <thead>\n",
       "    <tr style=\"text-align: right;\">\n",
       "      <th></th>\n",
       "      <th>spearman</th>\n",
       "    </tr>\n",
       "  </thead>\n",
       "  <tbody>\n",
       "    <tr>\n",
       "      <th>cosine</th>\n",
       "      <td>0.374513</td>\n",
       "    </tr>\n",
       "    <tr>\n",
       "      <th>chebyshev</th>\n",
       "      <td>0.140963</td>\n",
       "    </tr>\n",
       "    <tr>\n",
       "      <th>cityblock</th>\n",
       "      <td>0.142815</td>\n",
       "    </tr>\n",
       "    <tr>\n",
       "      <th>euclidean</th>\n",
       "      <td>0.141658</td>\n",
       "    </tr>\n",
       "  </tbody>\n",
       "</table>\n",
       "</div>"
      ],
      "text/plain": [
       "           spearman\n",
       "cosine     0.374513\n",
       "chebyshev  0.140963\n",
       "cityblock  0.142815\n",
       "euclidean  0.141658"
      ]
     },
     "execution_count": 20,
     "metadata": {},
     "output_type": "execute_result"
    }
   ],
   "source": [
    "evaluate(\n",
    "    compounds_path='./workdir/annotation_small.csv',\n",
    "    #compounds_path='./workdir/annotation_katya_ref_v2.csv',\n",
    "         dsm_path='./workdir/models/model_fast2vec_test',\n",
    "         model_type=FastText,\n",
    "         label='Катя (short list)',\n",
    "         f_average=average_normalized)"
   ]
  },
  {
   "cell_type": "code",
   "execution_count": 7,
   "metadata": {},
   "outputs": [
    {
     "name": "stdout",
     "output_type": "stream",
     "text": [
      "Number of examples:  443\n"
     ]
    },
    {
     "data": {
      "text/html": [
       "<div>\n",
       "<style scoped>\n",
       "    .dataframe tbody tr th:only-of-type {\n",
       "        vertical-align: middle;\n",
       "    }\n",
       "\n",
       "    .dataframe tbody tr th {\n",
       "        vertical-align: top;\n",
       "    }\n",
       "\n",
       "    .dataframe thead th {\n",
       "        text-align: right;\n",
       "    }\n",
       "</style>\n",
       "<table border=\"1\" class=\"dataframe\">\n",
       "  <thead>\n",
       "    <tr style=\"text-align: right;\">\n",
       "      <th></th>\n",
       "      <th>spearman</th>\n",
       "    </tr>\n",
       "  </thead>\n",
       "  <tbody>\n",
       "    <tr>\n",
       "      <th>cosine</th>\n",
       "      <td>0.255594</td>\n",
       "    </tr>\n",
       "    <tr>\n",
       "      <th>chebyshev</th>\n",
       "      <td>0.080067</td>\n",
       "    </tr>\n",
       "    <tr>\n",
       "      <th>cityblock</th>\n",
       "      <td>0.081344</td>\n",
       "    </tr>\n",
       "    <tr>\n",
       "      <th>euclidean</th>\n",
       "      <td>0.081478</td>\n",
       "    </tr>\n",
       "  </tbody>\n",
       "</table>\n",
       "</div>"
      ],
      "text/plain": [
       "           spearman\n",
       "cosine     0.255594\n",
       "chebyshev  0.080067\n",
       "cityblock  0.081344\n",
       "euclidean  0.081478"
      ]
     },
     "execution_count": 7,
     "metadata": {},
     "output_type": "execute_result"
    }
   ],
   "source": [
    "evaluate(compounds_path='./workdir/annotation_katya_ref_v2.csv',\n",
    "         dsm_path='./workdir/models/model_fast2vec_test',\n",
    "         model_type=FastText,\n",
    "         label='Катя (short list)',\n",
    "         f_average=average_normalized)"
   ]
  },
  {
   "cell_type": "code",
   "execution_count": 12,
   "metadata": {},
   "outputs": [
    {
     "name": "stdout",
     "output_type": "stream",
     "text": [
      "Number of examples:  201\n"
     ]
    },
    {
     "data": {
      "text/html": [
       "<div>\n",
       "<style scoped>\n",
       "    .dataframe tbody tr th:only-of-type {\n",
       "        vertical-align: middle;\n",
       "    }\n",
       "\n",
       "    .dataframe tbody tr th {\n",
       "        vertical-align: top;\n",
       "    }\n",
       "\n",
       "    .dataframe thead th {\n",
       "        text-align: right;\n",
       "    }\n",
       "</style>\n",
       "<table border=\"1\" class=\"dataframe\">\n",
       "  <thead>\n",
       "    <tr style=\"text-align: right;\">\n",
       "      <th></th>\n",
       "      <th>spearman</th>\n",
       "    </tr>\n",
       "  </thead>\n",
       "  <tbody>\n",
       "    <tr>\n",
       "      <th>cosine</th>\n",
       "      <td>0.394188</td>\n",
       "    </tr>\n",
       "    <tr>\n",
       "      <th>chebyshev</th>\n",
       "      <td>0.325905</td>\n",
       "    </tr>\n",
       "    <tr>\n",
       "      <th>cityblock</th>\n",
       "      <td>0.333543</td>\n",
       "    </tr>\n",
       "    <tr>\n",
       "      <th>euclidean</th>\n",
       "      <td>0.330534</td>\n",
       "    </tr>\n",
       "  </tbody>\n",
       "</table>\n",
       "</div>"
      ],
      "text/plain": [
       "           spearman\n",
       "cosine     0.394188\n",
       "chebyshev  0.325905\n",
       "cityblock  0.333543\n",
       "euclidean  0.330534"
      ]
     },
     "execution_count": 12,
     "metadata": {},
     "output_type": "execute_result"
    }
   ],
   "source": [
    "evaluate(\n",
    "    compounds_path='./workdir/annotation_small.csv',\n",
    "    dsm_path='./workdir/models/model_fasttext_300_mc5',\n",
    "    model_type=FastText,\n",
    "    label='Катя (short list)',\n",
    "    f_average=average_standard)"
   ]
  },
  {
   "cell_type": "code",
   "execution_count": 4,
   "metadata": {},
   "outputs": [
    {
     "name": "stdout",
     "output_type": "stream",
     "text": [
      "Number of examples:  198\n"
     ]
    },
    {
     "data": {
      "text/html": [
       "<div>\n",
       "<style scoped>\n",
       "    .dataframe tbody tr th:only-of-type {\n",
       "        vertical-align: middle;\n",
       "    }\n",
       "\n",
       "    .dataframe tbody tr th {\n",
       "        vertical-align: top;\n",
       "    }\n",
       "\n",
       "    .dataframe thead th {\n",
       "        text-align: right;\n",
       "    }\n",
       "</style>\n",
       "<table border=\"1\" class=\"dataframe\">\n",
       "  <thead>\n",
       "    <tr style=\"text-align: right;\">\n",
       "      <th></th>\n",
       "      <th>spearman</th>\n",
       "    </tr>\n",
       "  </thead>\n",
       "  <tbody>\n",
       "    <tr>\n",
       "      <th>cosine</th>\n",
       "      <td>0.380239</td>\n",
       "    </tr>\n",
       "    <tr>\n",
       "      <th>chebyshev</th>\n",
       "      <td>0.158433</td>\n",
       "    </tr>\n",
       "    <tr>\n",
       "      <th>cityblock</th>\n",
       "      <td>0.163234</td>\n",
       "    </tr>\n",
       "    <tr>\n",
       "      <th>euclidean</th>\n",
       "      <td>0.164674</td>\n",
       "    </tr>\n",
       "  </tbody>\n",
       "</table>\n",
       "</div>"
      ],
      "text/plain": [
       "           spearman\n",
       "cosine     0.380239\n",
       "chebyshev  0.158433\n",
       "cityblock  0.163234\n",
       "euclidean  0.164674"
      ]
     },
     "execution_count": 4,
     "metadata": {},
     "output_type": "execute_result"
    }
   ],
   "source": [
    "evaluate(\n",
    "    compounds_path='./workdir/annotation_small.csv',\n",
    "    dsm_path='./workdir/models/model_word2vec_300_mc5',\n",
    "    model_type=Word2Vec,\n",
    "    label='Катя (short list)',\n",
    "    f_average=average_normalized)"
   ]
  },
  {
   "cell_type": "code",
   "execution_count": 7,
   "metadata": {},
   "outputs": [
    {
     "name": "stdout",
     "output_type": "stream",
     "text": [
      "Number of examples:  201\n"
     ]
    },
    {
     "data": {
      "text/html": [
       "<div>\n",
       "<style scoped>\n",
       "    .dataframe tbody tr th:only-of-type {\n",
       "        vertical-align: middle;\n",
       "    }\n",
       "\n",
       "    .dataframe tbody tr th {\n",
       "        vertical-align: top;\n",
       "    }\n",
       "\n",
       "    .dataframe thead th {\n",
       "        text-align: right;\n",
       "    }\n",
       "</style>\n",
       "<table border=\"1\" class=\"dataframe\">\n",
       "  <thead>\n",
       "    <tr style=\"text-align: right;\">\n",
       "      <th></th>\n",
       "      <th>spearman</th>\n",
       "    </tr>\n",
       "  </thead>\n",
       "  <tbody>\n",
       "    <tr>\n",
       "      <th>cosine</th>\n",
       "      <td>0.366412</td>\n",
       "    </tr>\n",
       "    <tr>\n",
       "      <th>chebyshev</th>\n",
       "      <td>0.103234</td>\n",
       "    </tr>\n",
       "    <tr>\n",
       "      <th>cityblock</th>\n",
       "      <td>0.142352</td>\n",
       "    </tr>\n",
       "    <tr>\n",
       "      <th>euclidean</th>\n",
       "      <td>0.147907</td>\n",
       "    </tr>\n",
       "  </tbody>\n",
       "</table>\n",
       "</div>"
      ],
      "text/plain": [
       "           spearman\n",
       "cosine     0.366412\n",
       "chebyshev  0.103234\n",
       "cityblock  0.142352\n",
       "euclidean  0.147907"
      ]
     },
     "execution_count": 7,
     "metadata": {},
     "output_type": "execute_result"
    }
   ],
   "source": [
    "evaluate(\n",
    "    compounds_path='./workdir/annotation_small.csv',\n",
    "    dsm_path='./workdir/models/model_word2vec_300_mc2',\n",
    "    model_type=FastText,\n",
    "    label='Катя (short list)',\n",
    "    f_average=average_standard)"
   ]
  },
  {
   "cell_type": "code",
   "execution_count": 8,
   "metadata": {},
   "outputs": [
    {
     "name": "stdout",
     "output_type": "stream",
     "text": [
      "Number of examples:  201\n"
     ]
    },
    {
     "data": {
      "text/html": [
       "<div>\n",
       "<style scoped>\n",
       "    .dataframe tbody tr th:only-of-type {\n",
       "        vertical-align: middle;\n",
       "    }\n",
       "\n",
       "    .dataframe tbody tr th {\n",
       "        vertical-align: top;\n",
       "    }\n",
       "\n",
       "    .dataframe thead th {\n",
       "        text-align: right;\n",
       "    }\n",
       "</style>\n",
       "<table border=\"1\" class=\"dataframe\">\n",
       "  <thead>\n",
       "    <tr style=\"text-align: right;\">\n",
       "      <th></th>\n",
       "      <th>spearman</th>\n",
       "    </tr>\n",
       "  </thead>\n",
       "  <tbody>\n",
       "    <tr>\n",
       "      <th>cosine</th>\n",
       "      <td>0.371735</td>\n",
       "    </tr>\n",
       "    <tr>\n",
       "      <th>chebyshev</th>\n",
       "      <td>0.090735</td>\n",
       "    </tr>\n",
       "    <tr>\n",
       "      <th>cityblock</th>\n",
       "      <td>0.138880</td>\n",
       "    </tr>\n",
       "    <tr>\n",
       "      <th>euclidean</th>\n",
       "      <td>0.140269</td>\n",
       "    </tr>\n",
       "  </tbody>\n",
       "</table>\n",
       "</div>"
      ],
      "text/plain": [
       "           spearman\n",
       "cosine     0.371735\n",
       "chebyshev  0.090735\n",
       "cityblock  0.138880\n",
       "euclidean  0.140269"
      ]
     },
     "execution_count": 8,
     "metadata": {},
     "output_type": "execute_result"
    }
   ],
   "source": [
    "evaluate(\n",
    "    #compounds_path='./workdir/annotation_katya_v3.csv',\n",
    "    compounds_path='./workdir/annotation_small.csv',\n",
    "    #compounds_path='./workdir/annotation_katya_ref_v2.csv',\n",
    "         dsm_path='./workdir/models/model_fast2vec_test',\n",
    "         model_type=Word2Vec,\n",
    "         label='Катя (short list)',\n",
    "         f_average=average_standard)"
   ]
  },
  {
   "cell_type": "code",
   "execution_count": null,
   "metadata": {},
   "outputs": [],
   "source": [
    "Number of examples:  201\n",
    "33\n",
    "spearman\n",
    "cosine\t0.374513\n",
    "chebyshev\t0.140963\n",
    "cityblock\t0.142815\n",
    "euclidean\t0.141658"
   ]
  },
  {
   "cell_type": "code",
   "execution_count": 3,
   "metadata": {},
   "outputs": [
    {
     "name": "stdout",
     "output_type": "stream",
     "text": [
      "Number of examples:  201\n"
     ]
    },
    {
     "data": {
      "text/html": [
       "<div>\n",
       "<style scoped>\n",
       "    .dataframe tbody tr th:only-of-type {\n",
       "        vertical-align: middle;\n",
       "    }\n",
       "\n",
       "    .dataframe tbody tr th {\n",
       "        vertical-align: top;\n",
       "    }\n",
       "\n",
       "    .dataframe thead th {\n",
       "        text-align: right;\n",
       "    }\n",
       "</style>\n",
       "<table border=\"1\" class=\"dataframe\">\n",
       "  <thead>\n",
       "    <tr style=\"text-align: right;\">\n",
       "      <th></th>\n",
       "      <th>spearman</th>\n",
       "    </tr>\n",
       "  </thead>\n",
       "  <tbody>\n",
       "    <tr>\n",
       "      <th>cosine</th>\n",
       "      <td>-0.014582</td>\n",
       "    </tr>\n",
       "    <tr>\n",
       "      <th>chebyshev</th>\n",
       "      <td>-0.199524</td>\n",
       "    </tr>\n",
       "    <tr>\n",
       "      <th>cityblock</th>\n",
       "      <td>-0.115502</td>\n",
       "    </tr>\n",
       "    <tr>\n",
       "      <th>euclidean</th>\n",
       "      <td>-0.130779</td>\n",
       "    </tr>\n",
       "  </tbody>\n",
       "</table>\n",
       "</div>"
      ],
      "text/plain": [
       "           spearman\n",
       "cosine    -0.014582\n",
       "chebyshev -0.199524\n",
       "cityblock -0.115502\n",
       "euclidean -0.130779"
      ]
     },
     "execution_count": 3,
     "metadata": {},
     "output_type": "execute_result"
    }
   ],
   "source": [
    "evaluate(\n",
    "    #compounds_path='./workdir/annotation_katya_v3.csv',\n",
    "    compounds_path='./workdir/annotation_small.csv',\n",
    "    #compounds_path='./workdir/annotation_katya_ref_v2.csv',\n",
    "         #dsm_path='./workdir/models/model_fasttext_300_6',\n",
    "    dsm_path='./workdir/models/model_fasttext_300_mc2',\n",
    "         model_type=FastText,\n",
    "         label='Катя (short list)',\n",
    "         f_average=average_normalized,\n",
    "         dsm_words_path='./workdir/models/model_fasttext_nocompounds_300_mc2')\n",
    "         #dsm_comp_path='./workdir/models/model_fasttext_no_compounds')"
   ]
  },
  {
   "cell_type": "code",
   "execution_count": 87,
   "metadata": {},
   "outputs": [
    {
     "data": {
      "text/plain": [
       "997"
      ]
     },
     "execution_count": 87,
     "metadata": {},
     "output_type": "execute_result"
    }
   ],
   "source": [
    "data1 = pd.read_csv('./workdir/annotation_katya_ref.csv')\n",
    "data2 = pd.read_csv('./workdir/compounds_select_1000_v2_ans.csv')\n",
    "\n",
    "create_set = lambda data: set(zip(data['Часть 1'].tolist(), data['Часть 2'].tolist()))\n",
    "set1 = create_set(data1)\n",
    "set2 = create_set(data2)\n",
    "\n",
    "len(set1 & set2)"
   ]
  },
  {
   "cell_type": "code",
   "execution_count": null,
   "metadata": {},
   "outputs": [],
   "source": [
    "FastText:\n",
    "0.24916833583916628\n",
    "-0.009943028200770114\n",
    "-0.031080194111016517\n",
    "-0.028182887880328536\n",
    "\n",
    "\n",
    "FastText\n",
    "Number of examples:  449\n",
    "spearman\n",
    "cosine\t0.253712\n",
    "chebyshev\t-0.040233\n",
    "cityblock\t-0.038060\n",
    "euclidean\t-0.031278\n",
    "\n",
    "\n",
    "word2vec\n",
    "\tspearman\n",
    "cosine\t0.258014\n",
    "chebyshev\t0.073209\n",
    "cityblock\t0.105411\n",
    "euclidean\t0.106419"
   ]
  }
 ],
 "metadata": {
  "kernelspec": {
   "display_name": "Python 3",
   "language": "python",
   "name": "python3"
  },
  "language_info": {
   "codemirror_mode": {
    "name": "ipython",
    "version": 3
   },
   "file_extension": ".py",
   "mimetype": "text/x-python",
   "name": "python",
   "nbconvert_exporter": "python",
   "pygments_lexer": "ipython3",
   "version": "3.6.7"
  }
 },
 "nbformat": 4,
 "nbformat_minor": 2
}

{
 "cells": [
  {
   "cell_type": "code",
   "execution_count": 1,
   "metadata": {},
   "outputs": [],
   "source": [
    "%load_ext autoreload\n",
    "%autoreload 2"
   ]
  },
  {
   "cell_type": "code",
   "execution_count": 2,
   "metadata": {},
   "outputs": [],
   "source": [
    "import os \n",
    "import pickle\n",
    "import msgpack\n",
    "import time\n",
    "import pandas as pd\n",
    "from gensim.models import Word2Vec, FastText\n",
    "\n",
    "from train_dsm import GeneratorSentences\n",
    "from train_dsm import GeneratorSentencesCompounds\n",
    "from train_dsm import train_dsm"
   ]
  },
  {
   "cell_type": "code",
   "execution_count": 4,
   "metadata": {},
   "outputs": [],
   "source": [
    "import os\n",
    "import sys\n",
    "from train_dsm import train_dsm\n",
    "from multiprocessing import Process\n",
    "from gensim.models import FastText\n",
    "\n",
    "logs_path = './workdir/logs/subprocesses/'\n",
    "\n",
    "\n",
    "def init_subprocess_logging():\n",
    "    import sys\n",
    "    sys.stdout = open(os.path.join(logs_path, str(os.getpid()) + \".stdout\"), \"a\")\n",
    "    sys.stderr = open(os.path.join(logs_path, str(os.getpid()) + \".stderr\"), \"a\")\n",
    "    \n",
    "    \n",
    "def run_custom(func, *args, **kwargs):\n",
    "    init_subprocess_logging()\n",
    "    return func(*args, **kwargs)\n",
    "\n",
    "\n",
    "def get_logs(proc, tp='.stderr', tail=100):\n",
    "    proc_logs_path = os.path.join(logs_path, str(proc.pid) + tp)\n",
    "    with open(proc_logs_path, 'rb') as f:\n",
    "        try:\n",
    "            f.seek(-tail, os.SEEK_END)\n",
    "        except OSError:\n",
    "            pass\n",
    "        finally:\n",
    "            log = f.read()\n",
    "    \n",
    "    return log.decode('utf-8')"
   ]
  },
  {
   "cell_type": "markdown",
   "metadata": {},
   "source": [
    "# Train model without compounds"
   ]
  },
  {
   "cell_type": "code",
   "execution_count": null,
   "metadata": {},
   "outputs": [],
   "source": [
    "import gensim\n",
    "\n",
    "#parse_path = '/notebook/projects/compounds/workdir/parse1/'\n",
    "parse_path = '/notebook/projects/compounds/workdir/parse5/'\n",
    "model = gensim.models.Word2Vec(GeneratorSentences(parse_path), min_count=5, size=100, workers=10)\n",
    "model.save('./model_word2vec_no_compounds')"
   ]
  },
  {
   "cell_type": "code",
   "execution_count": 41,
   "metadata": {},
   "outputs": [
    {
     "data": {
      "text/plain": [
       "[('чистить', 0.9070878624916077),\n",
       " ('помыть', 0.8470351696014404),\n",
       " ('мочить', 0.8346104621887207),\n",
       " ('протирать', 0.8309078216552734),\n",
       " ('намазывать', 0.8274841904640198),\n",
       " ('мыться', 0.8230193257331848),\n",
       " ('полоскать', 0.8215987682342529),\n",
       " ('вытирать', 0.8136080503463745),\n",
       " ('мазать', 0.8098058700561523),\n",
       " ('замачивать', 0.8080874681472778)]"
      ]
     },
     "execution_count": 41,
     "metadata": {},
     "output_type": "execute_result"
    }
   ],
   "source": [
    "model.wv.most_similar('мыть')"
   ]
  },
  {
   "cell_type": "markdown",
   "metadata": {},
   "source": [
    "# Train word2vec"
   ]
  },
  {
   "cell_type": "code",
   "execution_count": 6,
   "metadata": {},
   "outputs": [],
   "source": [
    "import gensim\n",
    "\n",
    "parse_path = '/notebook/projects/compounds/workdir/parse5/'\n",
    "model = gensim.models.Word2Vec(GeneratorSentencesCompounds(parse_path), min_count=5, size=500, workers=5)\n",
    "model.save('./workdir/models/model_word2vec_compounds5')"
   ]
  },
  {
   "cell_type": "code",
   "execution_count": 7,
   "metadata": {},
   "outputs": [
    {
     "name": "stderr",
     "output_type": "stream",
     "text": [
      "/root/.pyenv/versions/3.6.7/lib/python3.6/site-packages/gensim/matutils.py:737: FutureWarning: Conversion of the second argument of issubdtype from `int` to `np.signedinteger` is deprecated. In future, it will be treated as `np.int64 == np.dtype(int).type`.\n",
      "  if np.issubdtype(vec.dtype, np.int):\n"
     ]
    },
    {
     "data": {
      "text/plain": [
       "[('программа', 0.5038685202598572),\n",
       " ('телепрограмма', 0.4862660765647888),\n",
       " ('телепередача', 0.4710542559623718),\n",
       " ('соведущий', 0.4702419340610504),\n",
       " ('телеигра', 0.4528096616268158),\n",
       " ('колумнист', 0.42590969800949097),\n",
       " ('рубрика', 0.4214072525501251),\n",
       " ('идеолог', 0.4181630313396454),\n",
       " ('модератор', 0.4072508215904236),\n",
       " ('телевикторина', 0.4044981896877289)]"
      ]
     },
     "execution_count": 7,
     "metadata": {},
     "output_type": "execute_result"
    }
   ],
   "source": [
    "model.wv.most_similar('автор_программа')"
   ]
  },
  {
   "cell_type": "code",
   "execution_count": null,
   "metadata": {},
   "outputs": [],
   "source": [
    "parse_path = '/notebook/projects/compounds/workdir/parse5'\n",
    "full_data = list(GeneratorSentencesCompounds(parse_path))"
   ]
  },
  {
   "cell_type": "code",
   "execution_count": 5,
   "metadata": {},
   "outputs": [
    {
     "data": {
      "text/plain": [
       "<gensim.models.word2vec.Word2Vec at 0x7efc9b6e3da0>"
      ]
     },
     "execution_count": 5,
     "metadata": {},
     "output_type": "execute_result"
    }
   ],
   "source": [
    "compounds_path = './workdir/annotation_katya_ref_v2.csv'\n",
    "data_path = './workdir/parse5'\n",
    "save_path = './workdir/models/model_fast2vec_test'\n",
    "model = Word2Vec(size=300, min_count=2, workers=8)\n",
    "\n",
    "train_dsm(compounds_path=compounds_path, \n",
    "          data_path=data_path, \n",
    "          save_path=save_path, \n",
    "          model=model, \n",
    "          epochs=5,\n",
    "          strategy=1)"
   ]
  },
  {
   "cell_type": "code",
   "execution_count": 6,
   "metadata": {},
   "outputs": [],
   "source": [
    "model.save('./workdir/models/model_word2vec_test1')"
   ]
  },
  {
   "cell_type": "markdown",
   "metadata": {},
   "source": [
    "# Train FastText"
   ]
  },
  {
   "cell_type": "code",
   "execution_count": 5,
   "metadata": {},
   "outputs": [],
   "source": [
    "compounds_path = './workdir/annotation_katya_ref_v2.csv'\n",
    "data_path = './workdir/parse5'\n",
    "save_path = './workdir/models/model_fasttext_300_6'\n",
    "model = FastText(size=300, min_count=2, workers=8)\n",
    "proc_fasttext_1 = Process(target=run_custom, \n",
    "               args=[train_dsm],\n",
    "               kwargs=dict(compounds_path=compounds_path, \n",
    "                                    data_path=data_path, \n",
    "                                    save_path=save_path, \n",
    "                                    model=model, \n",
    "                                    epochs=5))\n",
    "proc_fasttext_1.start()"
   ]
  }
 ],
 "metadata": {
  "kernelspec": {
   "display_name": "Python 3",
   "language": "python",
   "name": "python3"
  },
  "language_info": {
   "codemirror_mode": {
    "name": "ipython",
    "version": 3
   },
   "file_extension": ".py",
   "mimetype": "text/x-python",
   "name": "python",
   "nbconvert_exporter": "python",
   "pygments_lexer": "ipython3",
   "version": "3.6.7"
  }
 },
 "nbformat": 4,
 "nbformat_minor": 2
}

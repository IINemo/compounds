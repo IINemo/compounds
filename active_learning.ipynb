{
 "cells": [
  {
   "cell_type": "markdown",
   "metadata": {},
   "source": [
    "# Initialize"
   ]
  },
  {
   "cell_type": "code",
   "execution_count": 1,
   "metadata": {},
   "outputs": [],
   "source": [
    "%load_ext autoreload\n",
    "%autoreload 2\n",
    "\n",
    "import sys"
   ]
  },
  {
   "cell_type": "code",
   "execution_count": 2,
   "metadata": {},
   "outputs": [],
   "source": [
    "import os\n",
    "import pandas as pd\n",
    "import numpy as np\n",
    "import warnings\n",
    "from argparse import ArgumentParser\n",
    "from scipy.stats import spearmanr\n",
    "\n",
    "from sklearn.model_selection import train_test_split\n",
    "from sklearn.svm import SVC\n",
    "from sklearn.neural_network import MLPClassifier\n",
    "from sklearn.neighbors import KNeighborsClassifier\n",
    "from sklearn.tree import DecisionTreeClassifier\n",
    "from sklearn.ensemble import RandomForestClassifier, AdaBoostClassifier\n",
    "from sklearn.naive_bayes import GaussianNB\n",
    "from sklearn.metrics import accuracy_score, precision_score, recall_score, f1_score, roc_auc_score\n",
    "from sklearn.preprocessing import StandardScaler\n",
    "\n",
    "from tqdm import tqdm\n",
    "from compounds_utils import acquiring\n",
    "from gensim.models import FastText\n",
    "\n",
    "from compounds_utils import apply_distance, average_normalized, average_standard\n",
    "\n",
    "from scipy.spatial import distance\n",
    "\n",
    "pd.set_option('display.html.border', 1)"
   ]
  },
  {
   "cell_type": "code",
   "execution_count": 3,
   "metadata": {},
   "outputs": [],
   "source": [
    "import logging\n",
    "\n",
    "logger = logging.getLogger('actleto')\n",
    "\n",
    "logPath = './'\n",
    "fileName = 'actleto.log'\n",
    "logFormatter = logging.Formatter(\"%(asctime)s [%(threadName)-12.12s] [%(levelname)-5.5s]  %(message)s\")\n",
    "\n",
    "if logger.hasHandlers():\n",
    "    logger.handlers.clear()\n",
    "\n",
    "fileHandler = logging.FileHandler(os.path.join(logPath, fileName))\n",
    "fileHandler.setFormatter(logFormatter)\n",
    "logger.addHandler(fileHandler)\n",
    "\n",
    "consoleHandler = logging.StreamHandler()\n",
    "consoleHandler.setFormatter(logFormatter)\n",
    "logger.addHandler(consoleHandler)\n",
    "\n",
    "logger.setLevel(logging.INFO)"
   ]
  },
  {
   "cell_type": "markdown",
   "metadata": {},
   "source": [
    "# Load embeddings"
   ]
  },
  {
   "cell_type": "code",
   "execution_count": 4,
   "metadata": {},
   "outputs": [],
   "source": [
    "compounds_path = './workdir/annotation_small_selected.csv'\n",
    "model_path = './workdir/models/model_fasttext_300_morecompounds'\n",
    "model_words_path = './workdir/models/model_fasttext_nocompounds_300_mc5'\n",
    "\n",
    "model = FastText.load(model_path)\n",
    "model_words = None\n",
    "#model_words = FastText.load(model_words_path)"
   ]
  },
  {
   "cell_type": "markdown",
   "metadata": {},
   "source": [
    "# Initialize active learning datasets"
   ]
  },
  {
   "cell_type": "code",
   "execution_count": 5,
   "metadata": {},
   "outputs": [],
   "source": [
    "def make_train_data(w1vecs, w2vecs, compvecs):\n",
    "    train = np.concatenate((np.array(w1vecs), np.array(w2vecs), np.array(compvecs)), axis=1)\n",
    "    print('Classification data created with shape', train.shape)\n",
    "    return StandardScaler().fit_transform(train)\n",
    "\n",
    "\n",
    "def filter_out_marked_non_comp(unlabeled_dataset, comp):\n",
    "    marked_non_comp = comp[comp['Катя (short list)'] == 0][['Часть 1', 'Часть 2']]\n",
    "    common_index = pd.merge(unlabeled_dataset[['Часть 1', 'Часть 2']],\n",
    "                            marked_non_comp,\n",
    "                            on=['Часть 1', 'Часть 2'], \n",
    "                            how='inner', \n",
    "                            right_index=True).index\n",
    "    return unlabeled_dataset[~unlabeled_dataset.index.isin(common_index)]\n",
    "\n",
    "\n",
    "def swap_classes(cl):\n",
    "    if cl == 1.:\n",
    "        return 0.\n",
    "    elif cl == 0.:\n",
    "        return 1."
   ]
  },
  {
   "cell_type": "code",
   "execution_count": 6,
   "metadata": {},
   "outputs": [
    {
     "name": "stdout",
     "output_type": "stream",
     "text": [
      "Number of examples:  201\n",
      "Classification data created with shape (201, 900)\n"
     ]
    }
   ],
   "source": [
    "comp = pd.read_csv(compounds_path)\n",
    "w1, w2, c, true, comp = acquiring(comp, model, 'Катя (short list)', model_words=model_words)\n",
    "vecs = make_train_data(w1, w2, c)\n",
    "true = np.array([swap_classes(e) for e in true])"
   ]
  },
  {
   "cell_type": "code",
   "execution_count": 7,
   "metadata": {},
   "outputs": [
    {
     "name": "stdout",
     "output_type": "stream",
     "text": [
      "(5968, 253)\n"
     ]
    },
    {
     "name": "stderr",
     "output_type": "stream",
     "text": [
      "/root/.pyenv/versions/3.6.7/lib/python3.6/site-packages/IPython/core/interactiveshell.py:3020: DtypeWarning: Columns (3,118,119,120,121,122,123,124,125,126,127,128,129,130,131,132,133,134,135,136,137,138,139,140,141,142,143,144,145,146,147,148,149,150,151,152,153,154,155,156,157,158,159,160,161,162,163,164,165,166,167,168,169,170,171,172,173,174,175,176,177,178,179,180,181,182,183,184,185,186,187,188,189,190,191,192,193,194,195,196,197,198,199,200,201,202,203,204,205,206,207,208,209,210,211,212,213,214,215,216,217,218,219,220,221,222,223,224,225,226,227,228,229,230,231,232,233,234,235,236,237,238,239,240,241,242,243,244,245,246,247,248,249,250,251,252,253) have mixed types. Specify dtype option on import or set low_memory=False.\n",
      "  interactivity=interactivity, compiler=compiler, result=result)\n"
     ]
    }
   ],
   "source": [
    "unsupervised_path = './workdir/compounds_AN_top10000_fixed.csv'\n",
    "#unsupervised_path = './workdir/compounds_AN_top10000.csv'\n",
    "unlabeled_dataset = pd.read_csv(unsupervised_path, index_col=0)\n",
    "unlabeled_dataset = unlabeled_dataset[:5730]\n",
    "print(unlabeled_dataset.shape)"
   ]
  },
  {
   "cell_type": "code",
   "execution_count": 8,
   "metadata": {},
   "outputs": [
    {
     "name": "stdout",
     "output_type": "stream",
     "text": [
      "(5945, 253)\n"
     ]
    }
   ],
   "source": [
    "unlabeled_dataset = filter_out_marked_non_comp(unlabeled_dataset, comp)\n",
    "print(unlabeled_dataset.shape)"
   ]
  },
  {
   "cell_type": "code",
   "execution_count": 9,
   "metadata": {},
   "outputs": [
    {
     "name": "stdout",
     "output_type": "stream",
     "text": [
      "Number of examples:  5945\n",
      "Classification data created with shape (5945, 900)\n"
     ]
    }
   ],
   "source": [
    "w1_u, w2_u, c_u, true_u, unlabeled_dataset = acquiring(unlabeled_dataset, model, \n",
    "                                                       'Композициональность', \n",
    "                                                       model_words=model_words, \n",
    "                                                       skip_invalid_labels=False)\n",
    "vecs_unlabeled = make_train_data(w1_u, w2_u, c_u)"
   ]
  },
  {
   "cell_type": "code",
   "execution_count": 10,
   "metadata": {},
   "outputs": [],
   "source": [
    "random_state = 42\n",
    "X_train, X_test, y_train, y_test, index_train, index_test = train_test_split(vecs, true, \n",
    "                                                                             list(range(comp.shape[0])), \n",
    "                                                                             test_size=.5, \n",
    "                                                                             random_state=random_state)"
   ]
  },
  {
   "cell_type": "code",
   "execution_count": 11,
   "metadata": {},
   "outputs": [],
   "source": [
    "X_train = np.concatenate((X_train, vecs_unlabeled), axis=0)"
   ]
  },
  {
   "cell_type": "code",
   "execution_count": 12,
   "metadata": {},
   "outputs": [],
   "source": [
    "X_helper = pd.concat((comp.loc[index_train, ['Часть 1', 'Часть 2']], \n",
    "                      unlabeled_dataset[['Часть 1', 'Часть 2']]), \n",
    "                     axis=0, ignore_index=True)"
   ]
  },
  {
   "cell_type": "code",
   "execution_count": 13,
   "metadata": {},
   "outputs": [],
   "source": [
    "# Initialize with this\n",
    "\n",
    "y_train = np.concatenate((y_train, np.array([None] * len(vecs_unlabeled))), axis=0)"
   ]
  },
  {
   "cell_type": "code",
   "execution_count": 14,
   "metadata": {},
   "outputs": [],
   "source": [
    "save_dir = './workdir/datasets'\n",
    "np.save(os.path.join(save_dir, 'y_train.npy'), y_train)\n",
    "np.save(os.path.join(save_dir, 'y_test.npy'), y_test)\n",
    "np.save(os.path.join(save_dir, 'X_train.npy'), X_train)\n",
    "np.save(os.path.join(save_dir, 'X_test.npy'), X_test)\n",
    "X_helper.to_csv(os.path.join(save_dir, 'X_helper.csv'))"
   ]
  },
  {
   "cell_type": "markdown",
   "metadata": {},
   "source": [
    "# Load active learning datasets from prev iterations"
   ]
  },
  {
   "cell_type": "code",
   "execution_count": 129,
   "metadata": {},
   "outputs": [],
   "source": [
    "load_dir = './workdir/datasets'\n",
    "X_helper = pd.read_csv(os.path.join(load_dir, 'X_helper.csv'), index_col=0)\n",
    "y_test = np.load(os.path.join(load_dir, 'y_test.npy'))\n",
    "X_test = np.load(os.path.join(load_dir, 'X_test.npy'))\n",
    "X_train = np.load(os.path.join(load_dir, 'X_train.npy'))"
   ]
  },
  {
   "cell_type": "code",
   "execution_count": 130,
   "metadata": {},
   "outputs": [],
   "source": [
    "# Or load from file\n",
    "\n",
    "y_train = np.load('annotations_autosave.npy')"
   ]
  },
  {
   "cell_type": "markdown",
   "metadata": {},
   "source": [
    "# Start active learning"
   ]
  },
  {
   "cell_type": "code",
   "execution_count": 15,
   "metadata": {},
   "outputs": [],
   "source": [
    "from sklearn.metrics import f1_score, accuracy_score\n",
    "\n",
    "from libact.query_strategies import UncertaintySampling\n",
    "from libact.models import LogisticRegression as LibActLogisticRegression\n",
    "from sklearn.linear_model import LogisticRegression\n",
    "\n",
    "from actleto import ActiveLearner, make_libact_strategy_ctor, MPErr, ActiveLearnerUiWidget"
   ]
  },
  {
   "cell_type": "code",
   "execution_count": 16,
   "metadata": {},
   "outputs": [],
   "source": [
    "# Creating model for selecting examples from the unlabeled dataset.\n",
    "# We use special wrapper to make sklearn model compatible with libact library.\n",
    "query_model = LibActLogisticRegression()\n",
    "\n",
    "# We use uncertainty sampling strategy from libact and wrap it with adaptor.\n",
    "active_learn_alg_ctor = make_libact_strategy_ctor(lambda trn_ds: MPErr(trn_ds, model=query_model))\n",
    "\n",
    "# Now we create model for evaluation. In this example it is the same model as the one\n",
    "# for selecting examples.\n",
    "evaluation_model = LogisticRegression()\n",
    "\n",
    "\n",
    "def f1_macro(y_t, y_p):\n",
    "    return f1_score(y_t, y_p, average='macro')\n",
    "\n",
    "# We create ActiveLearner object that incupsulates the logic of active learning.\n",
    "active_learner = ActiveLearner(active_learn_alg_ctor=active_learn_alg_ctor,\n",
    "                               y_dtype='int',\n",
    "                               X_full_dataset=X_train, \n",
    "                               y_full_dataset=y_train,\n",
    "                               X_test_dataset=X_test,\n",
    "                               y_test_dataset=y_test,\n",
    "                               model_evaluate=evaluation_model,\n",
    "                               eval_metrics=[accuracy_score, f1_macro],\n",
    "                               rnd_start_steps=0)"
   ]
  },
  {
   "cell_type": "code",
   "execution_count": 17,
   "metadata": {},
   "outputs": [
    {
     "name": "stderr",
     "output_type": "stream",
     "text": [
      "/root/.pyenv/versions/3.6.7/lib/python3.6/site-packages/sklearn/linear_model/logistic.py:433: FutureWarning: Default solver will be changed to 'lbfgs' in 0.22. Specify a solver to silence this warning.\n",
      "  FutureWarning)\n"
     ]
    },
    {
     "data": {
      "application/vnd.jupyter.widget-view+json": {
       "model_id": "b8e7916c3a48404aab320e0e940469ae",
       "version_major": 2,
       "version_minor": 0
      },
      "text/plain": [
       "ActiveLearnerUiWidget(children=(HBox(children=(Button(description='Next iteration', style=ButtonStyle()), Labe…"
      ]
     },
     "metadata": {},
     "output_type": "display_data"
    }
   ],
   "source": [
    "# We need this try catch if we use autosave feature. It stops autosave thread for the older annotator widgets if we\n",
    "# invoke this cell for the second and next times.\n",
    "try:\n",
    "    if active_learn_ui:\n",
    "        active_learn_ui.stop()\n",
    "except NameError:\n",
    "    pass\n",
    "    \n",
    "# Now we create the active learner widget itself and configure it with created active learning object,\n",
    "# data for visualization (X_helper), and visualizer for images.\n",
    "active_learn_ui = ActiveLearnerUiWidget(active_learner=active_learner, \n",
    "                                        X_helper=X_helper,\n",
    "                                        display_feature_table=True,\n",
    "                                        y_labels={'Композ.' : 0, \n",
    "                                                  'Некомпоз.' : 1},\n",
    "                                        save_path='annotations.npy',\n",
    "                                        save_time=120)\n",
    "\n",
    "active_learn_ui"
   ]
  }
 ],
 "metadata": {
  "kernelspec": {
   "display_name": "Python 3",
   "language": "python",
   "name": "python3"
  },
  "language_info": {
   "codemirror_mode": {
    "name": "ipython",
    "version": 3
   },
   "file_extension": ".py",
   "mimetype": "text/x-python",
   "name": "python",
   "nbconvert_exporter": "python",
   "pygments_lexer": "ipython3",
   "version": "3.6.7"
  }
 },
 "nbformat": 4,
 "nbformat_minor": 2
}

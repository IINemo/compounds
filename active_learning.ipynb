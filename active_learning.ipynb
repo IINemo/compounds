{
 "cells": [
  {
   "cell_type": "code",
   "execution_count": 1,
   "metadata": {},
   "outputs": [],
   "source": [
    "%load_ext autoreload\n",
    "%autoreload 2\n",
    "\n",
    "import sys\n",
    "sys.path.append('active_learning_toolbox')"
   ]
  },
  {
   "cell_type": "code",
   "execution_count": 22,
   "metadata": {},
   "outputs": [],
   "source": [
    "import os\n",
    "import pandas as pd\n",
    "import numpy as np\n",
    "import warnings\n",
    "from argparse import ArgumentParser\n",
    "from scipy.stats import spearmanr\n",
    "\n",
    "from sklearn.model_selection import train_test_split\n",
    "from sklearn.svm import SVC\n",
    "from sklearn.neural_network import MLPClassifier\n",
    "from sklearn.neighbors import KNeighborsClassifier\n",
    "from sklearn.tree import DecisionTreeClassifier\n",
    "from sklearn.ensemble import RandomForestClassifier, AdaBoostClassifier\n",
    "from sklearn.naive_bayes import GaussianNB\n",
    "from sklearn.metrics import accuracy_score, precision_score, recall_score, f1_score, roc_auc_score\n",
    "from sklearn.preprocessing import StandardScaler\n",
    "\n",
    "from tqdm import tqdm\n",
    "from compounds_utils import acquiring\n",
    "from gensim.models import FastText\n",
    "\n",
    "from compounds_utils import apply_distance, average_normalized, average_standard\n",
    "\n",
    "from scipy.spatial import distance\n",
    "\n",
    "pd.set_option('display.html.border', 2)"
   ]
  },
  {
   "cell_type": "code",
   "execution_count": 3,
   "metadata": {},
   "outputs": [],
   "source": [
    "import logging\n",
    "\n",
    "logger = logging.getLogger('actleto')\n",
    "\n",
    "logPath = './'\n",
    "fileName = 'actleto.log'\n",
    "logFormatter = logging.Formatter(\"%(asctime)s [%(threadName)-12.12s] [%(levelname)-5.5s]  %(message)s\")\n",
    "\n",
    "if logger.hasHandlers():\n",
    "    logger.handlers.clear()\n",
    "\n",
    "fileHandler = logging.FileHandler(os.path.join(logPath, fileName))\n",
    "fileHandler.setFormatter(logFormatter)\n",
    "logger.addHandler(fileHandler)\n",
    "\n",
    "consoleHandler = logging.StreamHandler()\n",
    "consoleHandler.setFormatter(logFormatter)\n",
    "logger.addHandler(consoleHandler)\n",
    "\n",
    "logger.setLevel(logging.INFO)"
   ]
  },
  {
   "cell_type": "code",
   "execution_count": 4,
   "metadata": {},
   "outputs": [],
   "source": [
    "def make_train_data(w1vecs, w2vecs, compvecs):\n",
    "    train = np.concatenate((np.array(w1vecs), np.array(w2vecs), np.array(compvecs)), axis=1)\n",
    "    print('Classification data created with shape', train.shape)\n",
    "    return StandardScaler().fit_transform(train)\n",
    "\n",
    "# def make_train_data(w1vecs, w2vecs, compvecs):\n",
    "#     dist = apply_distance(np.array(w1vecs), np.array(w2vecs), np.array(compvecs), distance.cosine, average_normalized)\n",
    "#     dist = dist.reshape(-1, 1)\n",
    "#     train = np.concatenate((np.array(w1vecs), np.array(w2vecs), np.array(compvecs), dist), axis=1)\n",
    "#     return StandardScaler().fit_transform(train)"
   ]
  },
  {
   "cell_type": "code",
   "execution_count": 5,
   "metadata": {},
   "outputs": [],
   "source": [
    "compounds_path = './workdir/annotation_small_selected.csv'\n",
    "#model_path = './workdir/models/model_fasttext_300_mc5'\n",
    "model_path = './workdir/models/model_fasttext_300_morecompounds'\n",
    "model_words_path = './workdir/models/model_fasttext_nocompounds_300_mc5'\n",
    "\n",
    "model = FastText.load(model_path)\n",
    "model_words = None\n",
    "#model_words = FastText.load(model_words_path)"
   ]
  },
  {
   "cell_type": "code",
   "execution_count": 6,
   "metadata": {},
   "outputs": [
    {
     "name": "stdout",
     "output_type": "stream",
     "text": [
      "Number of examples:  201\n",
      "Classification data created with shape (201, 900)\n"
     ]
    }
   ],
   "source": [
    "comp = pd.read_csv(compounds_path)\n",
    "w1, w2, c, true, comp = acquiring(comp, model, 'Катя (short list)', model_words=model_words)\n",
    "vecs = make_train_data(w1, w2, c)"
   ]
  },
  {
   "cell_type": "code",
   "execution_count": 7,
   "metadata": {},
   "outputs": [
    {
     "name": "stderr",
     "output_type": "stream",
     "text": [
      "/root/.pyenv/versions/3.6.7/lib/python3.6/site-packages/IPython/core/interactiveshell.py:3020: DtypeWarning: Columns (0,5,6,7,8,9,10,11,12,13,14,15,16,17,18,19,20,21,22,23,24,25,26,27,28,29,30,31,32,33,34,35,36,37,38,39,40,41,42,43,44,45,46,47,48,49,50,51,52,53,54,55,56,57,58,59,60,61,62,63,64,65,66,67,68,69,70,71,72,73,74,75,76,77,78,79,80,81,82,83,84,85,86,87,88,89,90,91,92,93,94,95,96,97,98,99,100,101,102,103,104,105,106,107,108,109,110,111,112,113,114,115,116,117,118,119,120,121,122,123,124,125,126,127,128,129,130,131,132,133,134,135,136,137,138,139,140,141,142,143,144,145,146,147,148,149,150,151,152,153,154,155,156,157,158,159,160,161,162,163,164,165,166,167,168,169,170,171,172,173,174,175,176,177,178,179,180,181,182,183,184,185,186,187,188,189,190,191,192,193,194,195,196,197,198,199,200,201,202,203,204,205) have mixed types. Specify dtype option on import or set low_memory=False.\n",
      "  interactivity=interactivity, compiler=compiler, result=result)\n"
     ]
    }
   ],
   "source": [
    "unsupervised_path = './workdir/compounds_AN_top10000.csv'\n",
    "unlabeled_dataset = pd.read_csv(unsupervised_path, index_col=0)\n",
    "unlabeled_dataset = unlabeled_dataset[:5730]\n",
    "unlabeled_dataset.head()\n",
    "unlabeled_dataset.to_csv('./workdir/compounds_5000.csv')"
   ]
  },
  {
   "cell_type": "code",
   "execution_count": 8,
   "metadata": {},
   "outputs": [
    {
     "name": "stdout",
     "output_type": "stream",
     "text": [
      "Number of examples:  5730\n",
      "Classification data created with shape (5730, 900)\n"
     ]
    }
   ],
   "source": [
    "w1_u, w2_u, c_u, true_u, unlabeled_dataset = acquiring(unlabeled_dataset, model, 'Композициональность', \n",
    "                                    model_words=model_words, skip_invalid_labels=False)\n",
    "vecs_unlabeled = make_train_data(w1_u, w2_u, c_u)"
   ]
  },
  {
   "cell_type": "code",
   "execution_count": 9,
   "metadata": {},
   "outputs": [],
   "source": [
    "def swap_classes(cl):\n",
    "    if cl == 1.:\n",
    "        return 0.\n",
    "    elif cl == 0.:\n",
    "        return 1.\n",
    "\n",
    "true = np.array([swap_classes(e) for e in true])"
   ]
  },
  {
   "cell_type": "code",
   "execution_count": 10,
   "metadata": {},
   "outputs": [],
   "source": [
    "random_state = 42\n",
    "X_train, X_test, y_train, y_test, index_train, index_test = train_test_split(vecs, true, list(range(comp.shape[0])), \n",
    "                                                                             test_size=.5, random_state=random_state)"
   ]
  },
  {
   "cell_type": "code",
   "execution_count": 11,
   "metadata": {},
   "outputs": [],
   "source": [
    "X_train = np.concatenate((X_train, vecs_unlabeled), axis=0)\n",
    "y_train = np.concatenate((y_train, np.array([None] * len(vecs_unlabeled))), axis=0)"
   ]
  },
  {
   "cell_type": "code",
   "execution_count": 12,
   "metadata": {},
   "outputs": [],
   "source": [
    "X_helper = pd.concat((comp.loc[index_train, ['Часть 1', 'Часть 2']], unlabeled_dataset[['Часть 1', 'Часть 2']]), axis=0, ignore_index=True)"
   ]
  },
  {
   "cell_type": "code",
   "execution_count": 13,
   "metadata": {},
   "outputs": [],
   "source": [
    "from sklearn.metrics import f1_score, accuracy_score\n",
    "\n",
    "from libact.query_strategies import UncertaintySampling\n",
    "from libact.models import LogisticRegression as LibActLogisticRegression\n",
    "from sklearn.linear_model import LogisticRegression\n",
    "\n",
    "from actleto import ActiveLearner, make_libact_strategy_ctor, MPErr, ActiveLearnerUiWidget"
   ]
  },
  {
   "cell_type": "code",
   "execution_count": 14,
   "metadata": {},
   "outputs": [],
   "source": [
    "# Creating model for selecting examples from the unlabeled dataset.\n",
    "# We use special wrapper to make sklearn model compatible with libact library.\n",
    "query_model = LibActLogisticRegression()\n",
    "\n",
    "# We use uncertainty sampling strategy from libact and wrap it with adaptor.\n",
    "active_learn_alg_ctor = make_libact_strategy_ctor(lambda trn_ds: MPErr(trn_ds, model=query_model))\n",
    "\n",
    "# Now we create model for evaluation. In this example it is the same model as the one\n",
    "# for selecting examples.\n",
    "evaluation_model = LogisticRegression()\n",
    "\n",
    "\n",
    "def f1_macro(y_t, y_p):\n",
    "    return f1_score(y_t, y_p, average = 'macro')\n",
    "\n",
    "# We create ActiveLearner object that incupsulates the logic of active learning.\n",
    "active_learner = ActiveLearner(active_learn_alg_ctor=active_learn_alg_ctor,\n",
    "                               y_dtype='int',\n",
    "                               X_full_dataset=X_train, \n",
    "                               y_full_dataset=y_train,\n",
    "                               X_test_dataset=X_test,\n",
    "                               y_test_dataset=y_test,\n",
    "                               model_evaluate=evaluation_model,\n",
    "                               eval_metrics=[accuracy_score, f1_macro],\n",
    "                               rnd_start_steps=0)"
   ]
  },
  {
   "cell_type": "code",
   "execution_count": 23,
   "metadata": {},
   "outputs": [
    {
     "name": "stderr",
     "output_type": "stream",
     "text": [
      "/root/.pyenv/versions/3.6.7/lib/python3.6/site-packages/sklearn/linear_model/logistic.py:433: FutureWarning: Default solver will be changed to 'lbfgs' in 0.22. Specify a solver to silence this warning.\n",
      "  FutureWarning)\n"
     ]
    },
    {
     "data": {
      "application/vnd.jupyter.widget-view+json": {
       "model_id": "c52aba27623b4119851b887455e0ae95",
       "version_major": 2,
       "version_minor": 0
      },
      "text/plain": [
       "ActiveLearnerUiWidget(children=(HBox(children=(Button(description='Next iteration', style=ButtonStyle()), Labe…"
      ]
     },
     "metadata": {},
     "output_type": "display_data"
    }
   ],
   "source": [
    "# We need this try catch if we use autosave feature. It stops autosave thread for the older annotator widgets if we\n",
    "# invoke this cell for the second and next times.\n",
    "try:\n",
    "    if active_learn_ui:\n",
    "        active_learn_ui.stop()\n",
    "except NameError:\n",
    "    pass\n",
    "    \n",
    "# Now we create the active learner widget itself and configure it with created active learning object,\n",
    "# data for visualization (X_helper), and visualizer for images.\n",
    "active_learn_ui = ActiveLearnerUiWidget(active_learner=active_learner, \n",
    "                                        X_helper=X_helper,\n",
    "                                        display_feature_table=True,\n",
    "                                        y_labels={'Композ.' : 0, 'Некомпоз.' : 1},\n",
    "                                        save_path='annotations.npy',\n",
    "                                        save_time=120)\n",
    "\n",
    "active_learn_ui"
   ]
  },
  {
   "cell_type": "code",
   "execution_count": null,
   "metadata": {},
   "outputs": [],
   "source": []
  }
 ],
 "metadata": {
  "kernelspec": {
   "display_name": "Python 3",
   "language": "python",
   "name": "python3"
  },
  "language_info": {
   "codemirror_mode": {
    "name": "ipython",
    "version": 3
   },
   "file_extension": ".py",
   "mimetype": "text/x-python",
   "name": "python",
   "nbconvert_exporter": "python",
   "pygments_lexer": "ipython3",
   "version": "3.6.7"
  }
 },
 "nbformat": 4,
 "nbformat_minor": 2
}

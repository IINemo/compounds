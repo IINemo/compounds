{
 "cells": [
  {
   "cell_type": "code",
   "execution_count": 1,
   "metadata": {},
   "outputs": [
    {
     "name": "stderr",
     "output_type": "stream",
     "text": [
      "/root/.pyenv/versions/3.6.7/lib/python3.6/importlib/_bootstrap.py:219: RuntimeWarning: numpy.dtype size changed, may indicate binary incompatibility. Expected 96, got 88\n",
      "  return f(*args, **kwds)\n"
     ]
    }
   ],
   "source": [
    "import pandas as pd\n",
    "import numpy as np\n",
    "import warnings\n",
    "from argparse import ArgumentParser\n",
    "from pymystem3 import Mystem\n",
    "from scipy.stats import spearmanr\n",
    "\n",
    "from sklearn.model_selection import train_test_split\n",
    "from sklearn.svm import SVC\n",
    "from sklearn.neural_network import MLPClassifier\n",
    "from sklearn.neighbors import KNeighborsClassifier\n",
    "from sklearn.tree import DecisionTreeClassifier\n",
    "from sklearn.ensemble import RandomForestClassifier, AdaBoostClassifier\n",
    "from sklearn.naive_bayes import GaussianNB\n",
    "from sklearn.metrics import accuracy_score, precision_score, recall_score, f1_score, roc_auc_score\n",
    "from sklearn.preprocessing import StandardScaler\n",
    "\n",
    "from tqdm import tqdm\n",
    "from compounds_utils import acquiring\n",
    "from gensim.models import FastText\n",
    "\n",
    "from compounds_utils import apply_distance, average_normalized, average_standard\n",
    "\n",
    "from scipy.spatial import distance"
   ]
  },
  {
   "cell_type": "code",
   "execution_count": 23,
   "metadata": {},
   "outputs": [],
   "source": [
    "# def make_train_data(w1vecs, w2vecs, compvecs):\n",
    "#     train = np.concatenate((np.array(w1vecs), np.array(w2vecs), np.array(compvecs)), axis=1)\n",
    "#     print('Classification data created with shape', train.shape)\n",
    "#     return StandardScaler().fit_transform(train)\n",
    "\n",
    "def make_train_data(w1vecs, w2vecs, compvecs):\n",
    "    dist = apply_distance(np.array(w1vecs), np.array(w2vecs), np.array(compvecs), distance.cosine, average_normalized)\n",
    "    dist = dist.reshape(-1, 1)\n",
    "    train = np.concatenate((np.array(w1vecs), np.array(w2vecs), np.array(compvecs), dist), axis=1)\n",
    "    return StandardScaler().fit_transform(train)"
   ]
  },
  {
   "cell_type": "code",
   "execution_count": 24,
   "metadata": {},
   "outputs": [
    {
     "name": "stdout",
     "output_type": "stream",
     "text": [
      "Number of examples:  201\n"
     ]
    }
   ],
   "source": [
    "compounds_path = './workdir/annotation_small_selected.csv'\n",
    "model_path = './workdir/models/model_fasttext_300_mc5'\n",
    "model_words_path = './workdir/models/model_fasttext_nocompounds_300_mc5'\n",
    "\n",
    "model = FastText.load(model_path)\n",
    "comp = pd.read_csv(compounds_path)\n",
    "#model_words = FastText.load(model_words_path)\n",
    "model_words = None\n",
    "\n",
    "w1, w2, c, true = acquiring(comp, model, 'Катя (short list)', model_words=model_words)\n",
    "\n",
    "vecs = make_train_data(w1, w2, c)"
   ]
  },
  {
   "cell_type": "code",
   "execution_count": 27,
   "metadata": {},
   "outputs": [
    {
     "name": "stderr",
     "output_type": "stream",
     "text": [
      " 36%|███▌      | 9/25 [00:00<00:00, 86.76it/s]"
     ]
    },
    {
     "name": "stdout",
     "output_type": "stream",
     "text": [
      "1 1\n"
     ]
    },
    {
     "name": "stderr",
     "output_type": "stream",
     "text": [
      "100%|██████████| 25/25 [00:00<00:00, 96.17it/s]"
     ]
    },
    {
     "name": "stdout",
     "output_type": "stream",
     "text": [
      "accuracy= 0.8431\n",
      "precision= ['0.8917', '0.5776']\n",
      "recall= ['0.9191', '0.5137']\n",
      "f1= ['0.9040', '0.5261']\n",
      "spearman= 0.4455\n",
      "roc_auc= 0.7164\n",
      ".....................................\n"
     ]
    },
    {
     "name": "stderr",
     "output_type": "stream",
     "text": [
      "\n"
     ]
    }
   ],
   "source": [
    "accuracies = []\n",
    "precision1 = []\n",
    "precision0 = []\n",
    "recall1 = []\n",
    "recall0 = []\n",
    "f11 = []\n",
    "f10 = []\n",
    "spearman = []\n",
    "rocaucs = []\n",
    "\n",
    "Cs = [1]\n",
    "kernels = [1]\n",
    "for C in Cs:\n",
    "    for kernel in kernels:\n",
    "        print(C, kernel)\n",
    "        for state in tqdm(range(71, 71+25)):\n",
    "            X_train, X_test, y_train, y_test = train_test_split(vecs, true, test_size=.25, random_state=state)\n",
    "\n",
    "            #clf = SVC(C=1, kernel='linear', random_state=51, class_weight='balanced')\n",
    "            #clf = SVC(C=1, kernel='linear', random_state=51)\n",
    "            #clf = MLPClassifier(alpha=1, solver='lbfgs', hidden_layer_sizes=(200,80,20, ), random_state=42)\n",
    "            #clf = DecisionTreeClassifier(max_depth=10, max_features=20, random_state=42)\n",
    "            clf = GaussianNB()\n",
    "            clf.fit(X_train, y_train)\n",
    "            pred = clf.predict(X_test)\n",
    "            accuracies.append(accuracy_score(pred, y_test))\n",
    "            precision1.append(precision_score(pred, y_test))\n",
    "            precision0.append(precision_score(pred, y_test, pos_label=0))\n",
    "            recall1.append(recall_score(pred, y_test))\n",
    "            recall0.append(recall_score(pred, y_test, pos_label=0))\n",
    "            f11.append(f1_score(pred, y_test))\n",
    "            f10.append(f1_score(pred, y_test, pos_label=0))\n",
    "            #print(pred, y_test)\n",
    "            try:\n",
    "                rocaucs.append(roc_auc_score(pred, y_test))\n",
    "            except:\n",
    "                pass\n",
    "            with warnings.catch_warnings():\n",
    "                warnings.filterwarnings('error')\n",
    "                try:\n",
    "                    corr = spearmanr(pred, y_test)[0]\n",
    "                    spearman.append(corr)\n",
    "                except Warning:\n",
    "                    spearman.append(0)\n",
    "\n",
    "\n",
    "        print('accuracy=', '%.4f' % np.mean(accuracies))\n",
    "        print('precision=', ['%.4f' % np.mean(precision1), '%.4f' % np.mean(precision0)])\n",
    "        print('recall=', ['%.4f' % np.mean(recall1), '%.4f' % np.mean(recall0)])\n",
    "        print('f1=',['%.4f' % np.mean(f11), '%.4f' % np.mean(f10)])\n",
    "        print('spearman=', '%.4f' % np.mean(spearman))\n",
    "        print('roc_auc=', '%.4f' % np.mean(rocaucs))\n",
    "\n",
    "        print('.....................................')"
   ]
  }
 ],
 "metadata": {
  "kernelspec": {
   "display_name": "Python 3",
   "language": "python",
   "name": "python3"
  },
  "language_info": {
   "codemirror_mode": {
    "name": "ipython",
    "version": 3
   },
   "file_extension": ".py",
   "mimetype": "text/x-python",
   "name": "python",
   "nbconvert_exporter": "python",
   "pygments_lexer": "ipython3",
   "version": "3.6.7"
  }
 },
 "nbformat": 4,
 "nbformat_minor": 2
}
